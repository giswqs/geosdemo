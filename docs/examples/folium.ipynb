{
 "cells": [
  {
   "cell_type": "code",
   "execution_count": null,
   "id": "7e85885c",
   "metadata": {},
   "outputs": [],
   "source": [
    "import geosdemo.foliumap as geosdemo"
   ]
  },
  {
   "cell_type": "code",
   "execution_count": null,
   "id": "aaffaa59",
   "metadata": {},
   "outputs": [],
   "source": [
    "m = geosdemo.Map(center=(40.7128, -74.0060), zoom=12)"
   ]
  },
  {
   "cell_type": "code",
   "execution_count": null,
   "id": "a2a96a14",
   "metadata": {},
   "outputs": [],
   "source": [
    "url = 'http://mt0.google.com/vt/lyrs=y&hl=en&x={x}&y={y}&z={z}'"
   ]
  },
  {
   "cell_type": "code",
   "execution_count": null,
   "id": "3a5c0153",
   "metadata": {},
   "outputs": [],
   "source": [
    "m.add_tile_layer(url=url, name=\"Satellite\", attribution=\"Google\")"
   ]
  },
  {
   "cell_type": "code",
   "execution_count": null,
   "metadata": {},
   "outputs": [],
   "source": [
    "m"
   ]
  },
  {
   "cell_type": "code",
   "execution_count": null,
   "id": "stylish-awareness",
   "metadata": {},
   "outputs": [],
   "source": [
    "import folium"
   ]
  },
  {
   "cell_type": "code",
   "execution_count": null,
   "id": "abstract-collector",
   "metadata": {},
   "outputs": [],
   "source": [
    "m = folium.Map(location=[40, -100], zoom_start=4)\n",
    "m"
   ]
  },
  {
   "cell_type": "code",
   "execution_count": null,
   "id": "unexpected-queens",
   "metadata": {},
   "outputs": [],
   "source": [
    "m = folium.Map(location=[45.372, -121.6972], zoom_start=12, tiles=\"Stamen Terrain\")\n",
    "\n",
    "tooltip = \"Click me!\"\n",
    "\n",
    "folium.Marker(\n",
    "    [45.3288, -121.6625], popup=\"<i>Mt. Hood Meadows</i>\", tooltip=tooltip\n",
    ").add_to(m)\n",
    "folium.Marker(\n",
    "    [45.3311, -121.7113], popup=\"<b>Timberline Lodge</b>\", tooltip=tooltip\n",
    ").add_to(m)\n",
    "\n",
    "m"
   ]
  }
 ],
 "metadata": {
  "kernelspec": {
   "display_name": "Python 3",
   "language": "python",
   "name": "python3"
  },
  "language_info": {
   "codemirror_mode": {
    "name": "ipython",
    "version": 3
   },
   "file_extension": ".py",
   "mimetype": "text/x-python",
   "name": "python",
   "nbconvert_exporter": "python",
   "pygments_lexer": "ipython3",
   "version": "3.9.15"
  }
 },
 "nbformat": 4,
 "nbformat_minor": 5
}
